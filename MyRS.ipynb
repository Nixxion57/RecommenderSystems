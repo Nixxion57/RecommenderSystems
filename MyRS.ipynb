{
 "cells": [
  {
   "cell_type": "markdown",
   "source": [
    "# For this recommender system assignment I have decided to implement a content based one. The dataset I have used is a mobile phone rating dataset from kaggle. The dataset contains 1000 mobile phones and their ratings for camera, selfie, audio, display and battery. The recommender system will recommend mobile phones based on the user's preferences for the 5 features."
   ],
   "metadata": {
    "collapsed": false
   },
   "id": "f9d7bec9f38b8f90"
  },
  {
   "cell_type": "code",
   "execution_count": 21,
   "id": "initial_id",
   "metadata": {
    "collapsed": true,
    "ExecuteTime": {
     "end_time": "2023-11-03T13:56:33.354649700Z",
     "start_time": "2023-11-03T13:56:33.207592900Z"
    }
   },
   "outputs": [
    {
     "data": {
      "text/plain": "model        0\nprice        0\nlaunch       0\ncamera      39\nselfie     151\naudio      130\ndisplay    159\nbattery    169\ndtype: int64"
     },
     "execution_count": 21,
     "metadata": {},
     "output_type": "execute_result"
    }
   ],
   "source": [
    "import pandas as pd\n",
    "import numpy as np\n",
    "\n",
    "dataset = pd.read_csv('mobile phone rating by dxo.csv', low_memory=False)\n",
    "\n",
    "dataset.isnull().sum()"
   ]
  },
  {
   "cell_type": "markdown",
   "source": [
    "# First in order to ensure optimal performance of the system we need to model the dataset so it doesn't contain any null values and all the features are numeric. For that purpose I have used the StandardScaler from sklearn to scale the numeric features, and I've filled the missing values with the mean for the numeric features and the mode for the categorical features."
   ],
   "metadata": {
    "collapsed": false
   },
   "id": "6154805ef778fc5e"
  },
  {
   "cell_type": "code",
   "execution_count": 22,
   "outputs": [
    {
     "name": "stdout",
     "output_type": "stream",
     "text": [
      "model      0\n",
      "price      0\n",
      "launch     0\n",
      "camera     0\n",
      "selfie     0\n",
      "audio      0\n",
      "display    0\n",
      "battery    0\n",
      "dtype: int64\n"
     ]
    }
   ],
   "source": [
    "from sklearn.preprocessing import StandardScaler\n",
    "\n",
    "\n",
    "def remove_missing_values(set):\n",
    "    for column in set.columns:\n",
    "        if set[column].dtype == object:\n",
    "            set[column] = set[column].fillna(set[column].mode().iloc[0])\n",
    "        else:\n",
    "            set[column] = set[column].fillna(set[column].mean())\n",
    "    return set\n",
    "\n",
    "\n",
    "cleaned_dataset = remove_missing_values(dataset)\n",
    "\n",
    "print(cleaned_dataset.isnull().sum())\n",
    "\n",
    "scaler = StandardScaler()\n",
    "\n",
    "feature_columns = ['camera', 'selfie', 'audio', 'display', 'battery']\n",
    "\n",
    "cleaned_dataset[feature_columns] = scaler.fit_transform(cleaned_dataset[feature_columns])\n"
   ],
   "metadata": {
    "collapsed": false,
    "ExecuteTime": {
     "end_time": "2023-11-03T13:56:33.396346Z",
     "start_time": "2023-11-03T13:56:33.241596900Z"
    }
   },
   "id": "fbd2fbf5e945e906"
  },
  {
   "cell_type": "code",
   "execution_count": 23,
   "outputs": [],
   "source": [
    "from sklearn.metrics.pairwise import cosine_similarity\n",
    "\n",
    "# Select the numeric rating columns for item profiles\n",
    "smartphone_profiles = cleaned_dataset[feature_columns]\n"
   ],
   "metadata": {
    "collapsed": false,
    "ExecuteTime": {
     "end_time": "2023-11-03T13:56:33.399002800Z",
     "start_time": "2023-11-03T13:56:33.285616600Z"
    }
   },
   "id": "1cc7c55650b5aa7a"
  },
  {
   "cell_type": "markdown",
   "source": [
    "# Now that the dataset is ready we can start building the recommender system. First I've defined the user's preferences as an array. Then I've calculated the similarity scores between the user's preferences and the features of each mobile phone using cosine_similarity. Finally, I've created a dataframe with the mobile phones and their similarity scores and sorted it in descending order. The top 5 mobile phones are the recommendations."
   ],
   "metadata": {
    "collapsed": false
   },
   "id": "d7b2c8deb780357f"
  },
  {
   "cell_type": "code",
   "execution_count": 24,
   "outputs": [
    {
     "name": "stdout",
     "output_type": "stream",
     "text": [
      "                 Smartphone  Similarity\n",
      "57           Xiaomi 11T Pro    0.963123\n",
      "3   Apple iPhone 13 Pro Max    0.920825\n",
      "94               Xiaomi 11T    0.878413\n",
      "17  Apple iPhone 12 Pro Max    0.811485\n",
      "4       Apple iPhone 13 Pro    0.761816\n"
     ]
    }
   ],
   "source": [
    "# Define user_profile with the user's preferences\n",
    "user_profile = np.array([0.1, 0.3, 0.7, 0.6, 0.7]).reshape(1, -1)\n",
    "\n",
    "# Calculate the similarity scores\n",
    "sim_scores = cosine_similarity(smartphone_profiles, user_profile).flatten()\n",
    "\n",
    "#I define a user profile as an array of preference scores. Then, I calculate the cosine similarity between the user profile and each smartphone's feature vector. Cosine similarity measures the cosine of the angle between two vectors, and it's used to find the similarity between the user's preferences and each smartphone.\n",
    "\n",
    "# Create a DataFrame with Smartphone and Similarity\n",
    "sim_df = pd.DataFrame({'Smartphone': cleaned_dataset['model'], 'Similarity': sim_scores})\n",
    "\n",
    "# Sort\n",
    "recommendations = sim_df.sort_values(by='Similarity', ascending=False)\n",
    "\n",
    "print(recommendations.head(5))\n"
   ],
   "metadata": {
    "collapsed": false,
    "ExecuteTime": {
     "end_time": "2023-11-03T13:56:33.399511200Z",
     "start_time": "2023-11-03T13:56:33.301029200Z"
    }
   },
   "id": "e228e1df8bcb7523"
  },
  {
   "cell_type": "code",
   "execution_count": 24,
   "outputs": [],
   "source": [],
   "metadata": {
    "collapsed": false,
    "ExecuteTime": {
     "end_time": "2023-11-03T13:56:33.399511200Z",
     "start_time": "2023-11-03T13:56:33.342140400Z"
    }
   },
   "id": "eb97f2ae3920fc2b"
  }
 ],
 "metadata": {
  "kernelspec": {
   "display_name": "Python 3",
   "language": "python",
   "name": "python3"
  },
  "language_info": {
   "codemirror_mode": {
    "name": "ipython",
    "version": 2
   },
   "file_extension": ".py",
   "mimetype": "text/x-python",
   "name": "python",
   "nbconvert_exporter": "python",
   "pygments_lexer": "ipython2",
   "version": "2.7.6"
  }
 },
 "nbformat": 4,
 "nbformat_minor": 5
}
